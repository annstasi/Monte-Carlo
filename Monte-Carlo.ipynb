{
 "cells": [
  {
   "cell_type": "code",
   "execution_count": 1,
   "id": "bd442973",
   "metadata": {},
   "outputs": [],
   "source": [
    "import numpy as np"
   ]
  },
  {
   "cell_type": "markdown",
   "id": "aaa0d3ec",
   "metadata": {},
   "source": [
    "1. Ищем $$ \\frac{\\pi}{4} = 0.78539816339 $$"
   ]
  },
  {
   "cell_type": "code",
   "execution_count": 25,
   "id": "70e7b85c",
   "metadata": {},
   "outputs": [
    {
     "name": "stdout",
     "output_type": "stream",
     "text": [
      "0.7853\n"
     ]
    }
   ],
   "source": [
    "N = 10000 # Сколько точек генерируем\n",
    "circle = 0 # Сколько точек попало в окружность, центр = (0,0), радиус = 1, сторона квадрата вокруг окружности = 2\n",
    "for i in range(N):\n",
    "    x = np.random.uniform(-1, 1) \n",
    "    y = np.random.uniform(-1, 1)\n",
    "    if (x**2 + y**2) <= 1: # Если точка попала в окружность\n",
    "        circle += 1 # Увеличиваем счетчик\n",
    "print(circle/N)"
   ]
  },
  {
   "cell_type": "markdown",
   "id": "9a498686",
   "metadata": {},
   "source": [
    "2. Если 2 проигрыша в игре, она заканчивается, выигрыш с вероятностью p, проигрыш с вероятностью 1-p (При p = 1/2 ответ 6)"
   ]
  },
  {
   "cell_type": "code",
   "execution_count": 34,
   "id": "a1028bfd",
   "metadata": {},
   "outputs": [
    {
     "name": "stdout",
     "output_type": "stream",
     "text": [
      "5.864\n"
     ]
    }
   ],
   "source": [
    "rounds = [] # Общее число раундов в симуляции\n",
    "p = 0.5\n",
    "for i in range(1000):\n",
    "    r = 0 # Сколько раундов в этот раз сыграно\n",
    "    nloss = 0 # Сколько раз проиграли подряд\n",
    "    while nloss !=2:\n",
    "        r+=1\n",
    "        if (np.random.uniform() < p):\n",
    "            nloss = 0\n",
    "        else:\n",
    "            nloss += 1\n",
    "    rounds.append(r)\n",
    "print(np.average(rounds))"
   ]
  },
  {
   "cell_type": "markdown",
   "id": "3245ff11",
   "metadata": {},
   "source": [
    "3. Обычный Random Walk"
   ]
  },
  {
   "cell_type": "code",
   "execution_count": 1,
   "id": "6ac1f239",
   "metadata": {},
   "outputs": [
    {
     "name": "stdout",
     "output_type": "stream",
     "text": [
      "['banana', 'cherry']\n"
     ]
    }
   ],
   "source": [
    "import random\n",
    "\n",
    "my_list = [\"apple\", \"banana\", \"cherry\"]\n",
    "random_elements = random.choices(my_list, k=2)\n",
    "print(random_elements)"
   ]
  },
  {
   "cell_type": "code",
   "execution_count": 9,
   "id": "709d6a1f",
   "metadata": {},
   "outputs": [],
   "source": [
    "import random\n",
    "\n",
    "def random_walk(n):\n",
    "    x, y = 0, 0\n",
    "    for i in range(n):\n",
    "        (dx, dy) = random.choice([(0,1),(0,-1),(1,0),(-1,0)])\n",
    "        x += dx\n",
    "        y += dy\n",
    "    return (x,y)"
   ]
  },
  {
   "cell_type": "code",
   "execution_count": 16,
   "id": "fb4f9158",
   "metadata": {},
   "outputs": [
    {
     "name": "stdout",
     "output_type": "stream",
     "text": [
      "Distance = 0\n",
      "Distance = 2\n",
      "Distance = 4\n",
      "Distance = 6\n",
      "Distance = 2\n",
      "Distance = 8\n",
      "Distance = 0\n",
      "Distance = 2\n",
      "Distance = 2\n",
      "Distance = 4\n",
      "Distance = 2\n",
      "Distance = 4\n",
      "Distance = 6\n",
      "Distance = 6\n",
      "Distance = 4\n"
     ]
    }
   ],
   "source": [
    "for i in range(15):\n",
    "    walk = random_walk(10)\n",
    "    print(f'Distance = {abs(walk[0]) + abs(walk[1])}')"
   ]
  },
  {
   "cell_type": "markdown",
   "id": "fdf88de0",
   "metadata": {},
   "source": [
    "3. Задача: Какая будет самая длинная прогулка, если в среднем ты будешь на расстоянии 4 или меньше от начала? (Вероятность < 50% платить за транспорт домой)"
   ]
  },
  {
   "cell_type": "code",
   "execution_count": 20,
   "id": "526d7bba",
   "metadata": {},
   "outputs": [
    {
     "name": "stdout",
     "output_type": "stream",
     "text": [
      "Walk size =  1  | % of no transport =  100.0\n",
      "Walk size =  2  | % of no transport =  100.0\n",
      "Walk size =  3  | % of no transport =  100.0\n",
      "Walk size =  4  | % of no transport =  100.0\n",
      "Walk size =  5  | % of no transport =  87.88\n",
      "Walk size =  6  | % of no transport =  93.87\n",
      "Walk size =  7  | % of no transport =  75.96000000000001\n",
      "Walk size =  8  | % of no transport =  86.18\n",
      "Walk size =  9  | % of no transport =  66.89\n",
      "Walk size =  10  | % of no transport =  78.41\n",
      "Walk size =  11  | % of no transport =  59.599999999999994\n",
      "Walk size =  12  | % of no transport =  72.81\n",
      "Walk size =  13  | % of no transport =  53.54\n",
      "Walk size =  14  | % of no transport =  66.99000000000001\n",
      "Walk size =  15  | % of no transport =  49.24\n",
      "Walk size =  16  | % of no transport =  62.29\n",
      "Walk size =  17  | % of no transport =  45.0\n",
      "Walk size =  18  | % of no transport =  57.78\n",
      "Walk size =  19  | % of no transport =  41.760000000000005\n",
      "Walk size =  20  | % of no transport =  54.690000000000005\n",
      "Walk size =  21  | % of no transport =  38.42\n",
      "Walk size =  22  | % of no transport =  50.86000000000001\n",
      "Walk size =  23  | % of no transport =  35.339999999999996\n",
      "Walk size =  24  | % of no transport =  49.07\n",
      "Walk size =  25  | % of no transport =  34.02\n",
      "Walk size =  26  | % of no transport =  45.32\n",
      "Walk size =  27  | % of no transport =  31.330000000000002\n",
      "Walk size =  28  | % of no transport =  42.47\n",
      "Walk size =  29  | % of no transport =  28.98\n",
      "Walk size =  30  | % of no transport =  41.43\n"
     ]
    }
   ],
   "source": [
    "number_of_walks = 10000\n",
    "\n",
    "for walk_length in range(1,31): # вероятность 30 кварталов пройти\n",
    "    no_transport = 0 # 4 квартала или меньше от дома\n",
    "    \n",
    "    for i in range(number_of_walks):\n",
    "        (x, y) = random_walk(walk_length)\n",
    "        distance = abs(x) + abs(y)\n",
    "        \n",
    "        if distance <= 4:\n",
    "            no_transport+=1\n",
    "    # процент прогулок, окончившихся домом = прогулок, для которых не нужен транспорт\n",
    "    no_transport_percent = (float(no_transport) / number_of_walks) * 100\n",
    "    print('Walk size = ', walk_length, \" | % of no transport = \", no_transport_percent)"
   ]
  },
  {
   "cell_type": "markdown",
   "id": "2e9e57d1",
   "metadata": {},
   "source": [
    "Walk size =  22  | % of no transport =  50.86000000000001 Наибольшая прогулка, где процент выше 50"
   ]
  }
 ],
 "metadata": {
  "kernelspec": {
   "display_name": "Python 3 (ipykernel)",
   "language": "python",
   "name": "python3"
  },
  "language_info": {
   "codemirror_mode": {
    "name": "ipython",
    "version": 3
   },
   "file_extension": ".py",
   "mimetype": "text/x-python",
   "name": "python",
   "nbconvert_exporter": "python",
   "pygments_lexer": "ipython3",
   "version": "3.9.13"
  }
 },
 "nbformat": 4,
 "nbformat_minor": 5
}
